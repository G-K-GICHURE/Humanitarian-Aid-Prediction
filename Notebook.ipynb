# Humanitarian Aid Prediction Project

import pandas as pd
import numpy as np
import matplotlib.pyplot as plt
import seaborn as sns

from sklearn.model_selection import train_test_split
from sklearn.metrics import mean_absolute_error, mean_squared_error, r2_score
from sklearn.linear_model import LinearRegression
from sklearn.ensemble import RandomForestRegressor, GradientBoostingRegressor

# ---------------------------
# 1. Simulate Dummy Dataset
# ---------------------------
np.random.seed(42)
countries = [f"Country_{i}" for i in range(1, 51)]

data = {
    "Country": countries,
    "Population": np.random.randint(1, 100, 50),  # in millions
    "Disaster_Frequency": np.random.randint(0, 10, 50),
    "Healthcare_Access": np.random.rand(50),
    "GDP_per_Capita": np.random.randint(500, 20000, 50)
}

df = pd.DataFrame(data)

# Create target variable with some randomness
df["Aid_Units_Needed"] = (
    df["Population"] * 1000
    + df["Disaster_Frequency"] * 5000
    - df["Healthcare_Access"] * 8000
    + np.random.randint(0, 10000, 50)
).astype(int)

print("Sample Data:")
print(df.head())

# ---------------------------
# 2. Exploratory Data Analysis
# ---------------------------
plt.figure(figsize=(8,6))
sns.heatmap(df.corr(), annot=True, cmap="Reds")
plt.title("Feature Correlation Heatmap")
plt.show()

plt.figure(figsize=(10,6))
sns.barplot(x="Disaster_Frequency", y="Aid_Units_Needed", data=df, palette="Reds")
plt.title("Impact of Disaster Frequency on Aid Needed")
plt.show()

# ---------------------------
# 3. Train-Test Split
# ---------------------------
X = df[["Population", "Disaster_Frequency", "Healthcare_Access", "GDP_per_Capita"]]
y = df["Aid_Units_Needed"]

X_train, X_test, y_train, y_test = train_test_split(X, y, test_size=0.2, random_state=42)

# ---------------------------
# 4. Model Training & Testing
# ---------------------------
models = {
    "Linear Regression": LinearRegression(),
    "Random Forest": RandomForestRegressor(n_estimators=100, random_state=42),
    "Gradient Boosting": GradientBoostingRegressor(n_estimators=100, random_state=42)
}

results = {}
for name, model in models.items():
    model.fit(X_train, y_train)
    preds = model.predict(X_test)
    mae = mean_absolute_error(y_test, preds)
    rmse = np.sqrt(mean_squared_error(y_test, preds))
    r2 = r2_score(y_test, preds)
    results[name] = {"MAE": mae, "RMSE": rmse, "R²": r2}

print("\nModel Comparison Results:")
for model, metrics in results.items():
    print(f"{model}: {metrics}")

# ---------------------------
# 5. Recommendation
# ---------------------------
best_model = min(results.items(), key=lambda x: x[1]["RMSE"])
print(f"\nRecommended Model: {best_model[0]} with RMSE = {best_model[1]['RMSE']:.2f}")
